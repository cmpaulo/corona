{
 "cells": [
  {
   "cell_type": "code",
   "execution_count": 1,
   "metadata": {},
   "outputs": [],
   "source": [
    "import pandas as pd\n",
    "import matplotlib.pyplot as plt\n",
    "import numpy as np\n",
    "from datetime import datetime\n",
    "from datetime import timedelta\n",
    "# import wget\n",
    "# import os\n",
    "plt.style.use('seaborn')"
   ]
  },
  {
   "cell_type": "code",
   "execution_count": 2,
   "metadata": {},
   "outputs": [],
   "source": [
    "# # delete a old file\n",
    "# # os.remove(\"./JHU_COVID-19.csv\")\n",
    "# os.remove(\"./full_data.csv\")\n",
    "# # download the new datasheet form JH\n",
    "# # url =\"https://s3-us-west-1.amazonaws.com/starschema.covid/JHU_COVID-19.csv\"\n",
    "# url =\"https://covid.ourworldindata.org/data/ecdc/full_data.csv\"\n",
    "# output_directory = \".\"\n",
    "# filename = wget.download(url, out=output_directory)"
   ]
  },
  {
   "cell_type": "code",
   "execution_count": 3,
   "metadata": {},
   "outputs": [],
   "source": [
    "# read a csv to DataFrame with pandas\n",
    "data = pd.read_csv(\"https://covid.ourworldindata.org/data/ecdc/full_data.csv\")\n",
    "\n",
    "# data from 🔅 Worldometers:\n",
    "# Cases =  30425. #❗️(103 novos)\n",
    "# Deaths = 1924 #❗️(11 novos) 😔\n",
    "# Recupered = 4390\n",
    "# txfa = Deaths/Cases\n",
    "# txre = Recupered/Cases\n",
    "\n",
    "total_data = data.copy()\n",
    "\n",
    "data.index = pd.to_datetime(data.date)\n",
    "# sel data form Brazil\n",
    "ctry = data[data[\"location\"] == 'Brazil']\n",
    "tested = ctry.copy()"
   ]
  },
  {
   "cell_type": "code",
   "execution_count": 4,
   "metadata": {},
   "outputs": [],
   "source": [
    "# create a arrays for curve fit parameters of a exponential equation\n",
    "# xdays = []\n",
    "# ydata = []\n",
    "dateCase=[]\n",
    "# today=datetime.now().date()\n",
    "# offsetcases = 1000.\n",
    "# ndays=10\n",
    "# ################################### Cases #####\n",
    "# cond_idx = tested.index[np.where(tested[\"total_cases\"]>offsetcases)]\n",
    "# case1 = cond_idx[0]\n",
    "# ndate = cond_idx\n",
    "# ########################################\n",
    "# for ib in enumerate(ndate):\n",
    "#     if tested[\"total_cases\"][cond_idx[ib[0]]] >= offsetcases:\n",
    "#         selday = (ib[1]-case1).days == np.arange(0,len(cond_idx)+ndays,ndays)\n",
    "#         if True in selday:\n",
    "#             xdays.append((ib[1]-case1).days)\n",
    "#             ydata.append(tested[\"total_cases\"][cond_idx[ib[0]]])\n",
    "#             dateCase.append(tested[\"date\"][cond_idx[ib[0]]])\n",
    "# >>>>>>>>>\n",
    "\n",
    "# do fiting\n",
    "ydata = tested.last(\"4W\").total_cases.values\n",
    "xdata = np.arange(len(ydata))\n",
    "ndate = tested.last(\"1D\").index[0]\n",
    "# datetime para 5 dias de previsao\n",
    "for i in range(6):\n",
    "    dateCase.append((ndate+timedelta(days=i)).date())\n",
    "dateCase = pd.to_datetime(dateCase)\n",
    "# ajuste exponencial com a func, dos dasos xdata e ydata Brasil\n",
    "from scipy.optimize import curve_fit\n",
    "def func(x, a, b, c):\n",
    "    return a * np.exp(b * x) + c\n",
    "poptbr, pcovbr = curve_fit(func, xdata, ydata)\n",
    "perrbr = np.sqrt(np.diag(pcovbr))\n",
    "# Forecast 5 days\n",
    "# ultimo = (ndate-case1).days\n",
    "# prbrxdata = np.arange(ultimo-1,ultimo+4)\n",
    "ultimo = len(xdata)\n",
    "prbrxdata = np.arange(ultimo-1,ultimo+5)\n",
    "prbrdata = func(prbrxdata, *poptbr)\n",
    "\n",
    "serro = func(prbrxdata, *(poptbr+perrbr))\n",
    "ierro = func(prbrxdata, *poptbr-perrbr)\n",
    "today = len(xdata)\n",
    "dprevisto = today\n",
    "hojebr = func(dprevisto, *poptbr)\n",
    "\n",
    "# Graphic Brazil"
   ]
  },
  {
   "cell_type": "code",
   "execution_count": 10,
   "metadata": {},
   "outputs": [
    {
     "data": {
      "text/plain": [
       "array([ 1.02787231e+05,  4.81942787e-02, -4.09156707e+04])"
      ]
     },
     "execution_count": 10,
     "metadata": {},
     "output_type": "execute_result"
    }
   ],
   "source": [
    "poptbr"
   ]
  },
  {
   "cell_type": "code",
   "execution_count": 9,
   "metadata": {},
   "outputs": [
    {
     "name": "stdout",
     "output_type": "stream",
     "text": [
      "|    | Date       |   PredictionNumberInfections | dataNumber   |\n",
      "|---:|:-----------|-----------------------------:|:-------------|\n",
      "|  0 | 2020-05-19 |                       255848 | 254220       |\n",
      "|  1 | 2020-05-20 |                       270500 | -            |\n",
      "|  2 | 2020-05-21 |                       285876 | -            |\n",
      "|  3 | 2020-05-22 |                       302012 | -            |\n",
      "|  4 | 2020-05-23 |                       318943 | -            |\n",
      "|  5 | 2020-05-24 |                       336711 | -            |\n"
     ]
    }
   ],
   "source": [
    "# Cria tabela markdown para colocar no site\n",
    "dictable = {\"Date\":[],\"PredictionNumberInfections\":[],\"dataNumber\":[]}\n",
    "real = [int(ydata[-1])]\n",
    "for kr in range(len(dateCase)):\n",
    "    if kr !=0 :real.append(str(\"-\"))\n",
    "dictable[\"dataNumber\"] = real\n",
    "for i in dateCase:\n",
    "    dictable[\"Date\"].append(i.strftime(format=\"%Y-%m-%d\"))\n",
    "dictable['PredictionNumberInfections'] = prbrdata\n",
    "if len(prbrdata) == len(dictable[\"Date\"]):\n",
    "    tabela = pd.DataFrame(dictable)\n",
    "    pmk = tabela.to_markdown()\n",
    "    print(pmk)\n",
    "else:\n",
    "    print(\"nao deu\",len(prbrdata),len(dictable[\"Date\"]))\n"
   ]
  },
  {
   "cell_type": "code",
   "execution_count": 8,
   "metadata": {},
   "outputs": [],
   "source": [
    "f = open('../foo.txt',\"w\")\n",
    "f.writelines(pmk)\n"
   ]
  },
  {
   "cell_type": "code",
   "execution_count": 276,
   "metadata": {},
   "outputs": [
    {
     "ename": "ValueError",
     "evalue": "must have exactly one of create/read/write/append mode",
     "output_type": "error",
     "traceback": [
      "\u001b[0;31m---------------------------------------------------------------------------\u001b[0m",
      "\u001b[0;31mValueError\u001b[0m                                Traceback (most recent call last)",
      "\u001b[0;32m<ipython-input-276-86138ce6334f>\u001b[0m in \u001b[0;36m<module>\u001b[0;34m\u001b[0m\n\u001b[1;32m      1\u001b[0m \u001b[0;31m#Open the file back and read the contents\u001b[0m\u001b[0;34m\u001b[0m\u001b[0;34m\u001b[0m\u001b[0;34m\u001b[0m\u001b[0m\n\u001b[0;32m----> 2\u001b[0;31m \u001b[0mf\u001b[0m\u001b[0;34m=\u001b[0m\u001b[0mopen\u001b[0m\u001b[0;34m(\u001b[0m\u001b[0;34m\"README.md\"\u001b[0m\u001b[0;34m,\u001b[0m \u001b[0;34m\"wr\"\u001b[0m\u001b[0;34m)\u001b[0m\u001b[0;34m\u001b[0m\u001b[0;34m\u001b[0m\u001b[0m\n\u001b[0m\u001b[1;32m      3\u001b[0m \u001b[0mfl\u001b[0m \u001b[0;34m=\u001b[0m \u001b[0mf\u001b[0m\u001b[0;34m.\u001b[0m\u001b[0mreadlines\u001b[0m\u001b[0;34m(\u001b[0m\u001b[0;34m)\u001b[0m\u001b[0;34m\u001b[0m\u001b[0;34m\u001b[0m\u001b[0m\n\u001b[1;32m      4\u001b[0m \u001b[0;32mfor\u001b[0m \u001b[0mi\u001b[0m \u001b[0;32min\u001b[0m \u001b[0mrange\u001b[0m\u001b[0;34m(\u001b[0m\u001b[0mlen\u001b[0m\u001b[0;34m(\u001b[0m\u001b[0mfl\u001b[0m\u001b[0;34m)\u001b[0m\u001b[0;34m)\u001b[0m\u001b[0;34m:\u001b[0m\u001b[0;34m\u001b[0m\u001b[0;34m\u001b[0m\u001b[0m\n\u001b[1;32m      5\u001b[0m     \u001b[0;32mif\u001b[0m \u001b[0;34m'|    | Date       |   PredictionNumberInfections |   dataNumber |'\u001b[0m \u001b[0;32min\u001b[0m \u001b[0mfl\u001b[0m\u001b[0;34m[\u001b[0m\u001b[0mi\u001b[0m\u001b[0;34m]\u001b[0m\u001b[0;34m:\u001b[0m\u001b[0;34m\u001b[0m\u001b[0;34m\u001b[0m\u001b[0m\n",
      "\u001b[0;31mValueError\u001b[0m: must have exactly one of create/read/write/append mode"
     ]
    }
   ],
   "source": [
    "# #Open the file back and read the contents\n",
    "# f=open(\"out.md\", \"r\")\n",
    "# fl = f.readlines()\n",
    "# for i in range(len(fl)):\n",
    "#     if '|    | Date       |   PredictionNumberInfections |   dataNumber |' in fl[i]:\n",
    "#         print(i,fl[i])\n",
    "#         f = open(namefile,\"w+\")\n",
    "#         f.seek(0,i+1)\n",
    "        \n",
    "#         mk = mkfpd.split(\"\\n\")"
   ]
  },
  {
   "cell_type": "code",
   "execution_count": 234,
   "metadata": {},
   "outputs": [
    {
     "data": {
      "image/png": "[encoded data removed]",
      "text/plain": [
       "<Figure size 720x432 with 1 Axes>"
      ]
     },
     "metadata": {},
     "output_type": "display_data"
    }
   ],
   "source": [
    "# Graphic Brazil\n",
    "\n",
    "# Graphic Brazil\n",
    "fig = plt.figure(figsize=[10,6])\n",
    "ax2 = plt.subplot()\n",
    "\n",
    "ax2.plot(dateCase[-len(prbrdata):],prbrdata,\"b*-\",label=\"5-day Forecast\")\n",
    "ax2.plot(dateCase[-len(prbrdata):],ierro,'k--',lw=.8)\n",
    "ax2.plot(dateCase[-len(prbrdata):],serro,'k--',lw=.8)\n",
    "ax2.plot(tested.index,tested[\"total_cases\"],\"k*--\",label=\"Confirmed Brazil\")\n",
    "\n",
    "ax2.text(pd.to_datetime(\"2020-03-02\"),tested[\"total_cases\"][-1],\"Forecast for \"+str(datetime.now().date()))\n",
    "ax2.text(pd.to_datetime(\"2020-03-02\"),tested[\"total_cases\"][-8],\"ninfect :: \"+str(int(hojebr)))\n",
    "# ax2.axvline(today,ls=\"dotted\",lw=1.8)\n",
    "\n",
    "ax2.set_title(\"COVID19 - Brazil data updated \"+str(tested[\"date\"][tested.index[-1]]))\n",
    "ax2.set_xlabel(\"Days\")\n",
    "ax2.set_ylabel(\"Number of Infections\")\n",
    "ax2.set_xlim(pd.to_datetime(\"2020-03-01\"),datetime.now().date()+timedelta(days=5))\n",
    "ax2.set_yscale('log')\n",
    "ax2.set_ylim(1,)\n",
    "ax2.legend(loc=\"lower right\")\n",
    "ax2.grid(1)\n",
    "plt.show()\n",
    "# fig.savefig(\"log_data_forecast_brazil.png\",dpi=350)"
   ]
  },
  {
   "cell_type": "code",
   "execution_count": null,
   "metadata": {},
   "outputs": [],
   "source": [
    "#  Countreis of South America\n",
    "############################SA##############\n",
    "############################SA##############\n",
    "today=datetime.now().date()\n",
    "sa = ['Argentina', 'Bolivia', 'Brazil', 'Chile', 'Colombia', 'Ecuador', 'Falkland Islands', 'French Guiana', \n",
    "      'Guyana', 'Paraguay', 'Peru', 'Suriname', 'Uruguay', 'Venezuela']\n",
    "sa = sorted(sa)\n",
    "san = total_data[(total_data.location.isin(sa)) & (total_data[\"total_cases\"] > 20. )]\n",
    "psum = san.groupby('date').total_cases.sum()\n",
    "\n",
    "############################SA##############\n",
    "\n",
    "fig = plt.figure(figsize=[10,6])\n",
    "ax = plt.subplot()\n",
    "\n",
    "for ii in sa:\n",
    "    p = total_data[(total_data[\"location\"] == ii) & (total_data[\"total_cases\"] > 20. )]\n",
    "    if len(p) > 0: \n",
    "        ax.plot(p.total_cases.values,label=ii)\n",
    "        ax.text(len(p),p.total_cases.values.max(),ii)\n",
    "ax.plot(psum.values,'g*-',label = \"Sum South\\n America\")\n",
    "ax.text(max(ax.get_xlim())-5,psum.values.max(),\"Sum SouthAmerica\",color=\"g\")\n",
    "ax.text(max(ax.get_xlim())-15,1,'update on '+str(datetime.now().date()))\n",
    "ax.set_yscale('log')\n",
    "ax.set_title(\"Countries of South America\")\n",
    "ax.set_ylabel(\"Number of Infections\")\n",
    "ax.set_xlim(0,max(ax.get_xlim())+15)\n",
    "ax.set_xlabel('Days after the day with over 20 cases confirmeds')\n",
    "plt.legend(loc=5)\n",
    "plt.show()\n",
    "# fig.savefig(\"southAmerica_brazil.png\",dpi=350)\n",
    "# plt.close()"
   ]
  },
  {
   "cell_type": "code",
   "execution_count": null,
   "metadata": {},
   "outputs": [],
   "source": [
    "############################ Countries bordering of Brazil ############################\n",
    "############################ Countries bordering of Brazil ############################\n",
    "############################ Countries bordering of Brazil ############################\n",
    "\n",
    "borderBR = ['Argentina', 'Bolivia', 'Brazil', 'Colombia', 'French Guiana', 'Guyana', 'Paraguay', 'Peru', 'Suriname']\n",
    "borderBR = sorted(borderBR)\n",
    "\n",
    "# psum.values\n",
    "############################\n",
    "fig = plt.figure(figsize=[10,6])\n",
    "ax = plt.subplot()\n",
    "\n",
    "\n",
    "for ii in borderBR:\n",
    "    p = total_data[(total_data[\"location\"] == ii) & (total_data[\"total_cases\"] > 20. )]\n",
    "    if len(p) > 0: \n",
    "        ax.plot(p.total_cases.values,label=ii)\n",
    "        ax.text(len(p),p.total_cases.max(),ii)\n",
    "\n",
    "ax.text(max(ax.get_xlim())-5,20,'update on '+str(today))\n",
    "ax.set_yscale('log')\n",
    "ax.set_title(\"Countries bordering of Brazil\")\n",
    "ax.set_ylabel(\"Number of Infections\")\n",
    "ax.set_xlim(0,max(ax.get_xlim())+15)\n",
    "ax.set_xlabel('Days after the day with over 20 cases confirmeds')\n",
    "plt.legend(loc=5)\n",
    "plt.show()\n",
    "# fig.savefig(\"border_brazil.png\",dpi=350)\n",
    "# plt.close()"
   ]
  },
  {
   "cell_type": "code",
   "execution_count": null,
   "metadata": {},
   "outputs": [],
   "source": [
    "################# world############################ world###########\n",
    "################# world############################ world###########\n",
    "\n",
    "top = total_data.sort_values('total_cases',ascending=False).where(total_data.location != 'World').dropna().location.unique()[:4]\n",
    "top = list(top)\n",
    "top.append(\"Brazil\")\n",
    "\n",
    "################# world############################ world###########\n",
    "################# world############################ world###########\n",
    "\n",
    "fig = plt.figure(figsize=[10,6])\n",
    "ax = plt.subplot()\n",
    "\n",
    "\n",
    "for ii in top:\n",
    "    if ii == \"Brazil\":\n",
    "        p = total_data[(total_data[\"location\"] == ii) & (total_data[\"total_cases\"] > 100. )]\n",
    "#         p['total_cases'] = p['total_cases'].add(10.)\n",
    "    else:\n",
    "        p = total_data[(total_data[\"location\"] == ii) & (total_data[\"total_cases\"] > 100. )]\n",
    "    \n",
    "    if len(p) > 0:\n",
    "        ax.plot(p.total_cases.values,label=ii)\n",
    "        ax.text(len(p),p.total_cases.max(),ii)\n",
    "\n",
    "ax.text(max(ax.get_xlim())-15,100,'update on '+str(today))\n",
    "ax.set_yscale('log')\n",
    "ax.set_title(\"Countries of World\")\n",
    "ax.set_ylabel(\"Number of Infections\")\n",
    "ax.set_xlim(0,max(ax.get_xlim())+15)\n",
    "ax.set_xlabel('Days after the day with over 100 cases confirmeds')\n",
    "plt.legend(loc=5)\n",
    "plt.show()\n",
    "# fig.savefig(\"top_world.png\",dpi=350)\n",
    "# plt.close()"
   ]
  },
  {
   "cell_type": "code",
   "execution_count": null,
   "metadata": {},
   "outputs": [],
   "source": [
    "# top 5 STATES OF BRAZIL########################\n",
    "# top 5 STATES OF BRAZIL########################\n",
    "# top 5 STATES OF BRAZIL########################\n",
    "url =\"https://raw.githubusercontent.com/wcota/covid19br/master/cases-brazil-states.csv\"\n",
    "datos = pd.read_csv(url,header=0,index_col=\"date\")\n",
    "############\n",
    "############\n",
    "listStates = sorted(datos[\"state\"].unique())[:-1]\n",
    "datos.index = pd.to_datetime(datos.index)\n",
    "nna = datos.loc[:,[\"state\",\"totalCases\"]].where(datos[\"state\"] !='TOTAL').dropna().sort_values(by=\"totalCases\",ascending=False)\n",
    "TOP5 = nna.state.unique()[:5]\n",
    "########################### TOP 5 ############\n",
    "############\n",
    "############\n",
    "fig = plt.figure(figsize=[10,6])\n",
    "ax = plt.subplot()\n",
    "\n",
    "for ii in TOP5:\n",
    "    p = datos[(datos[\"state\"] == ii) & (datos[\"totalCases\"] > 26. )]\n",
    "    if len(p) > 0: \n",
    "        ax.plot(p.totalCases.values,label=ii)\n",
    "        ax.text(len(p),p.totalCases.values.max(),ii)\n",
    "ax.text(max(ax.get_xlim())-10,50,'update on '+str(datetime.now().date()))\n",
    "ax.set_yscale('log')\n",
    "ax.set_title(\"5 States of Brazil\")\n",
    "ax.set_ylabel(\"Number of Infections\")\n",
    "ax.set_xlim(0,max(ax.get_xlim())+15)\n",
    "ax.set_xlabel('Days after the day with over 20 cases confirmeds')\n",
    "plt.legend(loc=5)\n",
    "plt.grid(\"both\")\n",
    "plt.show()\n",
    "# fig.savefig(\"n20cases_TOP5.png\",dpi=350)\n",
    "# plt.close()"
   ]
  }
 ],
 "metadata": {
  "kernelspec": {
   "display_name": "Python 3",
   "language": "python",
   "name": "python3"
  },
  "language_info": {
   "codemirror_mode": {
    "name": "ipython",
    "version": 3
   },
   "file_extension": ".py",
   "mimetype": "text/x-python",
   "name": "python",
   "nbconvert_exporter": "python",
   "pygments_lexer": "ipython3",
   "version": "3.6.9"
  }
 },
 "nbformat": 4,
 "nbformat_minor": 4
}
